{
 "cells": [
  {
   "cell_type": "markdown",
   "id": "52360ecf",
   "metadata": {},
   "source": [
    "## Problem Statement\n",
    "\n",
    "![problem](problem.png)"
   ]
  },
  {
   "cell_type": "code",
   "execution_count": 1,
   "id": "0b4b5b24",
   "metadata": {},
   "outputs": [],
   "source": [
    "import numpy as np\n",
    "import math\n",
    "import matplotlib.pyplot as plt"
   ]
  },
  {
   "cell_type": "code",
   "execution_count": 95,
   "id": "de84af3b",
   "metadata": {},
   "outputs": [],
   "source": [
    "class Spider:\n",
    "    \"Base Class for spider agent\"\n",
    "    def __init__(self, position):\n",
    "        self.position = position\n",
    "    \n",
    "    def move_to_fly(self, flies_loc, flies):\n",
    "        flies = [fly for fly in flies if not fly.get_status()]\n",
    "        flies_loc = np.array([fly.position for fly in flies])\n",
    "        nearest_fly = self._get_nearest_fly(flies_loc)\n",
    "        move_axis = np.argmax(np.abs(self.position - flies[nearest_fly].position))\n",
    "        # move 1-unit to the maximum distance axis\n",
    "        self.position[move_axis] -= 1*np.sign((self.position - flies[nearest_fly].position)[move_axis])\n",
    "        \n",
    "        if self.position[1] >= 9:\n",
    "            self.position[1] == 9\n",
    "        if self.position[1] <= 0:\n",
    "            self.position[1] == 0\n",
    "        if self.position[0] <= 0:\n",
    "            self.position[0] = 0\n",
    "        if self.position[0] >= 9:\n",
    "            self.position[0] = 9\n",
    "        \n",
    "    \n",
    "    def _get_nearest_fly(self, flies_loc):\n",
    "        distances = np.abs(flies_loc - self.position)\n",
    "        sums = np.sum(distances, axis=1)\n",
    "        close = np.min(sums)\n",
    "        diff = sums - close\n",
    "        idx = np.where(diff==0)\n",
    "        if len(idx)==1:\n",
    "            return idx[0][0]\n",
    "        else:\n",
    "            h_min = distances[idx[0][0]][0]\n",
    "            min_idx = None\n",
    "            for i in range(1,len(idx[0])):\n",
    "                 if distances[idx[0][i]][0] < h_min:\n",
    "                        h_min = distances[idx[0][i]][0]\n",
    "                        min_idx = idx[0][i]\n",
    "            return min_idx"
   ]
  },
  {
   "cell_type": "code",
   "execution_count": 96,
   "id": "c4b4f501",
   "metadata": {},
   "outputs": [],
   "source": [
    "class Fly:\n",
    "    \"Base Class for a fly\"\n",
    "    def __init__(self, position, move_random=False):\n",
    "        self.position = position\n",
    "        self.move_random = move_random\n",
    "        self.captured = False\n",
    "        \n",
    "    # DO NOT NEED THIS FOR GAME 1\n",
    "    def move_random(self):\n",
    "        if self.move_random:\n",
    "            pass\n",
    "    \n",
    "    def is_captured(self, spider_pos):\n",
    "        self.captured = (spider_pos == self.position).all()\n",
    "    \n",
    "    def get_status(self):\n",
    "        return self.captured\n",
    "    \n",
    "    def set_status(self, status):\n",
    "        self.captured = status"
   ]
  },
  {
   "cell_type": "code",
   "execution_count": 97,
   "id": "77938ba1",
   "metadata": {},
   "outputs": [],
   "source": [
    "class Game:\n",
    "    \"Game Class for Base Policy\"\n",
    "    \n",
    "    def __init__(self, num_spiders, num_flies, loc_spiders, loc_flies):\n",
    "        self.flies = [Fly(loc) for loc in loc_flies]\n",
    "        self.og_flies = np.copy(self.flies)\n",
    "        self.spiders = [Spider(loc) for loc in loc_spiders]\n",
    "        self.flies_loc = loc_flies\n",
    "        self.spiders_loc = loc_spiders\n",
    "        self.moves = 0\n",
    "        \n",
    "    def is_game_over(self, flies):\n",
    "        return not False in [fly.get_status() for fly in flies]\n",
    "    \n",
    "    def start_game(self):\n",
    "        while (not (self.is_game_over(self.flies))) and (self.moves < (10*10)):\n",
    "            self.moves += 1\n",
    "            for spider in self.spiders:\n",
    "                spider.move_to_fly(self.flies_loc, self.flies)\n",
    "            \n",
    "            self.check_capture()\n",
    "            \n",
    "            print([spider.position for spider in self.spiders])\n",
    "            print([fly.get_status() for fly in self.flies])\n",
    "                \n",
    "            \n",
    "    def generate_grid(flies, spiders):\n",
    "        pass\n",
    "    \n",
    "    def check_capture(self):\n",
    "        for spider in self.spiders:\n",
    "            for fly in self.flies:\n",
    "                if (spider.position == fly.position).all():\n",
    "                    fly.set_status(True)       "
   ]
  },
  {
   "cell_type": "code",
   "execution_count": 98,
   "id": "5402b140",
   "metadata": {},
   "outputs": [],
   "source": [
    "flies_loc = np.array([[3,2],[7,1],[6,4],[8,8],[2,8]])\n",
    "agent_loc = np.array([[0, 6],[0,6]])\n",
    "spider_and_flies = Game(num_spiders=2, num_flies = 5, loc_spiders = agent_loc, loc_flies=flies_loc)"
   ]
  },
  {
   "cell_type": "code",
   "execution_count": 99,
   "id": "fff6137b",
   "metadata": {},
   "outputs": [
    {
     "name": "stdout",
     "output_type": "stream",
     "text": [
      "[array([1, 6]), array([1, 6])]\n",
      "[False, False, False, False, False]\n",
      "[array([1, 7]), array([1, 7])]\n",
      "[False, False, False, False, False]\n",
      "[array([2, 7]), array([2, 7])]\n",
      "[False, False, False, False, False]\n",
      "[array([2, 8]), array([2, 8])]\n",
      "[False, False, False, False, True]\n",
      "[array([3, 8]), array([3, 8])]\n",
      "[False, False, False, False, True]\n",
      "[array([4, 8]), array([4, 8])]\n",
      "[False, False, False, False, True]\n",
      "[array([5, 8]), array([5, 8])]\n",
      "[False, False, False, False, True]\n",
      "[array([6, 8]), array([6, 8])]\n",
      "[False, False, False, False, True]\n",
      "[array([7, 8]), array([7, 8])]\n",
      "[False, False, False, False, True]\n",
      "[array([8, 8]), array([8, 8])]\n",
      "[False, False, False, True, True]\n",
      "[array([8, 7]), array([8, 7])]\n",
      "[False, False, False, True, True]\n",
      "[array([8, 6]), array([8, 6])]\n",
      "[False, False, False, True, True]\n",
      "[array([7, 6]), array([7, 6])]\n",
      "[False, False, False, True, True]\n",
      "[array([7, 5]), array([7, 5])]\n",
      "[False, False, False, True, True]\n",
      "[array([6, 5]), array([6, 5])]\n",
      "[False, False, False, True, True]\n",
      "[array([6, 4]), array([6, 4])]\n",
      "[False, False, True, True, True]\n",
      "[array([6, 3]), array([6, 3])]\n",
      "[False, False, True, True, True]\n",
      "[array([6, 2]), array([6, 2])]\n",
      "[False, False, True, True, True]\n",
      "[array([7, 2]), array([7, 2])]\n",
      "[False, False, True, True, True]\n",
      "[array([7, 1]), array([7, 1])]\n",
      "[False, True, True, True, True]\n",
      "[array([6, 1]), array([6, 1])]\n",
      "[False, True, True, True, True]\n",
      "[array([5, 1]), array([5, 1])]\n",
      "[False, True, True, True, True]\n",
      "[array([4, 1]), array([4, 1])]\n",
      "[False, True, True, True, True]\n",
      "[array([3, 1]), array([3, 1])]\n",
      "[False, True, True, True, True]\n",
      "[array([3, 2]), array([3, 2])]\n",
      "[True, True, True, True, True]\n"
     ]
    }
   ],
   "source": [
    "spider_and_flies.start_game()"
   ]
  },
  {
   "cell_type": "code",
   "execution_count": 100,
   "id": "cd815b4d",
   "metadata": {},
   "outputs": [
    {
     "name": "stdout",
     "output_type": "stream",
     "text": [
      "Total Moves: 24\n"
     ]
    }
   ],
   "source": [
    "print(\"Total Moves: %d\" %(spider_and_flies.moves-1))"
   ]
  },
  {
   "cell_type": "markdown",
   "id": "1f521b68",
   "metadata": {},
   "source": [
    "## FOR DEBUGGING"
   ]
  },
  {
   "cell_type": "code",
   "execution_count": null,
   "id": "325127fb",
   "metadata": {},
   "outputs": [],
   "source": []
  }
 ],
 "metadata": {
  "kernelspec": {
   "display_name": "Python 3",
   "language": "python",
   "name": "python3"
  },
  "language_info": {
   "codemirror_mode": {
    "name": "ipython",
    "version": 3
   },
   "file_extension": ".py",
   "mimetype": "text/x-python",
   "name": "python",
   "nbconvert_exporter": "python",
   "pygments_lexer": "ipython3",
   "version": "3.8.8"
  }
 },
 "nbformat": 4,
 "nbformat_minor": 5
}
