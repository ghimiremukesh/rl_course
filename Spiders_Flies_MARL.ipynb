{
 "cells": [
  {
   "cell_type": "markdown",
   "id": "2316069f",
   "metadata": {},
   "source": [
    "## Problem Statement\n",
    "\n",
    "![problem](problem.png)"
   ]
  },
  {
   "cell_type": "code",
   "execution_count": 1,
   "id": "0b4b5b24",
   "metadata": {},
   "outputs": [],
   "source": [
    "import numpy as np\n",
    "import math"
   ]
  },
  {
   "cell_type": "code",
   "execution_count": 48,
   "id": "de84af3b",
   "metadata": {},
   "outputs": [],
   "source": [
    "class Spider:\n",
    "    \"Base Class for spider agent\"\n",
    "    def __init__(self, position):\n",
    "        self.position = position\n",
    "    \n",
    "    def move_to_fly(self, flies_loc, flies):\n",
    "        flies = [fly for fly in flies if not fly.get_status()]\n",
    "        flies_loc = np.array([fly.position for fly in flies])\n",
    "        nearest_fly = self._get_nearest_fly(flies_loc)\n",
    "        move_axis = np.argmax(np.abs(self.position - flies[nearest_fly].position))\n",
    "        # move 1-unit to the maximum distance axis\n",
    "        self.position[move_axis] -= 1*np.sign((self.position - flies[nearest_fly].position)[move_axis])\n",
    "        \n",
    "        if self.position[1] >= 9:\n",
    "            self.position[1] == 9\n",
    "        if self.position[1] <= 0:\n",
    "            self.position[1] == 0\n",
    "        if self.position[0] <= 0:\n",
    "            self.position[0] = 0\n",
    "        if self.position[0] >= 9:\n",
    "            self.position[0] = 9\n",
    "        \n",
    "    \n",
    "    def _get_nearest_fly(self, flies_loc):\n",
    "        distances = np.abs(flies_loc - self.position)\n",
    "        sums = np.sum(distances, axis=1)\n",
    "        close = np.min(sums)\n",
    "        diff = sums - close\n",
    "        idx = np.where(diff==0)\n",
    "        if len(idx)==1:\n",
    "            return idx[0][0]\n",
    "        else:\n",
    "            h_min = distances[idx[0][0]][0]\n",
    "            min_idx = None\n",
    "            for i in range(1,len(idx[0])):\n",
    "                 if distances[idx[0][i]][0] < h_min:\n",
    "                        h_min = distances[idx[0][i]][0]\n",
    "                        min_idx = idx[0][i]\n",
    "            return min_idx"
   ]
  },
  {
   "cell_type": "code",
   "execution_count": 31,
   "id": "55412ffa",
   "metadata": {},
   "outputs": [],
   "source": [
    "class Fly:\n",
    "    \"Base Class for a fly\"\n",
    "    def __init__(self, position, move_random=False):\n",
    "        self.position = position\n",
    "        self.move_random = move_random\n",
    "        self.captured = False\n",
    "        \n",
    "    # DO NOT NEED THIS FOR GAME 1\n",
    "    def move_random(self):\n",
    "        if self.move_random:\n",
    "            pass\n",
    "    \n",
    "    def is_captured(self, spider_pos):\n",
    "        self.captured = (spider_pos == self.position).all()\n",
    "    \n",
    "    def get_status(self):\n",
    "        return self.captured\n",
    "    \n",
    "    def set_status(self, status):\n",
    "        self.captured = status"
   ]
  },
  {
   "cell_type": "code",
   "execution_count": 32,
   "id": "a29f57c3",
   "metadata": {},
   "outputs": [],
   "source": [
    "flies_loc = np.array([[3,2],[7,1],[6,4],[8,8],[2,8]])\n",
    "agent_loc = np.array([[1, 6],[0,6]])\n",
    "spider_and_flies = Game(num_spiders=2, num_flies = 5, loc_spiders = agent_loc, loc_flies=flies_loc)"
   ]
  },
  {
   "cell_type": "code",
   "execution_count": 37,
   "id": "4c617a14",
   "metadata": {},
   "outputs": [
    {
     "name": "stdout",
     "output_type": "stream",
     "text": [
      "[array([1, 7]), array([1, 6])]\n",
      "[False, False, False, False, False]\n",
      "[array([2, 7]), array([1, 7])]\n",
      "[False, False, False, False, False]\n",
      "[array([2, 8]), array([2, 7])]\n",
      "[False, False, False, False, True]\n",
      "[array([3, 8]), array([2, 6])]\n",
      "[False, False, False, False, True]\n",
      "[array([4, 8]), array([2, 5])]\n",
      "[False, False, False, False, True]\n",
      "[array([5, 8]), array([2, 4])]\n",
      "[False, False, False, False, True]\n",
      "[array([6, 8]), array([2, 3])]\n",
      "[False, False, False, False, True]\n",
      "[array([7, 8]), array([3, 3])]\n",
      "[False, False, False, False, True]\n",
      "[array([8, 8]), array([3, 2])]\n",
      "[True, False, False, True, True]\n",
      "[array([8, 7]), array([4, 2])]\n",
      "[True, False, False, True, True]\n",
      "[array([8, 6]), array([5, 2])]\n",
      "[True, False, False, True, True]\n",
      "[array([7, 6]), array([6, 2])]\n",
      "[True, False, False, True, True]\n",
      "[array([7, 5]), array([7, 2])]\n",
      "[True, False, False, True, True]\n",
      "[array([6, 5]), array([7, 1])]\n",
      "[True, True, False, True, True]\n",
      "[array([6, 4]), array([7, 2])]\n",
      "[True, True, True, True, True]\n"
     ]
    }
   ],
   "source": [
    "spider_and_flies.start_game()"
   ]
  },
  {
   "cell_type": "code",
   "execution_count": 38,
   "id": "22e59522",
   "metadata": {},
   "outputs": [
    {
     "name": "stdout",
     "output_type": "stream",
     "text": [
      "Total Moves: 15\n"
     ]
    }
   ],
   "source": [
    "print(\"Total Moves: %d\" %(spider_and_flies.moves))"
   ]
  },
  {
   "cell_type": "markdown",
   "id": "1966d999",
   "metadata": {},
   "source": [
    "## Pygame for Graphics"
   ]
  },
  {
   "cell_type": "code",
   "execution_count": 15,
   "id": "b220a5ba",
   "metadata": {},
   "outputs": [
    {
     "ename": "ImportError",
     "evalue": "dlopen(/Users/mghimire/.local/lib/python3.8/site-packages/pygame/base.cpython-38-darwin.so, 0x0002): tried: '/Users/mghimire/.local/lib/python3.8/site-packages/pygame/base.cpython-38-darwin.so' (mach-o file, but is an incompatible architecture (have 'x86_64', need 'arm64e')), '/usr/local/lib/base.cpython-38-darwin.so' (no such file), '/usr/lib/base.cpython-38-darwin.so' (no such file)",
     "output_type": "error",
     "traceback": [
      "\u001b[0;31m---------------------------------------------------------------------------\u001b[0m",
      "\u001b[0;31mImportError\u001b[0m                               Traceback (most recent call last)",
      "\u001b[0;32m/var/folders/xd/5m8xqhxj7nb98dkg_t5fs5zc0000gq/T/ipykernel_22849/396017653.py\u001b[0m in \u001b[0;36m<module>\u001b[0;34m\u001b[0m\n\u001b[0;32m----> 1\u001b[0;31m \u001b[0;32mimport\u001b[0m \u001b[0mpygame\u001b[0m\u001b[0;34m\u001b[0m\u001b[0;34m\u001b[0m\u001b[0m\n\u001b[0m\u001b[1;32m      2\u001b[0m \u001b[0;34m\u001b[0m\u001b[0m\n\u001b[1;32m      3\u001b[0m \u001b[0mBLACK\u001b[0m \u001b[0;34m=\u001b[0m \u001b[0;34m(\u001b[0m\u001b[0;36m0\u001b[0m\u001b[0;34m,\u001b[0m \u001b[0;36m0\u001b[0m\u001b[0;34m,\u001b[0m \u001b[0;36m0\u001b[0m\u001b[0;34m)\u001b[0m\u001b[0;34m\u001b[0m\u001b[0;34m\u001b[0m\u001b[0m\n\u001b[1;32m      4\u001b[0m \u001b[0mWHITE\u001b[0m \u001b[0;34m=\u001b[0m \u001b[0;34m(\u001b[0m\u001b[0;36m200\u001b[0m\u001b[0;34m,\u001b[0m \u001b[0;36m200\u001b[0m\u001b[0;34m,\u001b[0m \u001b[0;36m200\u001b[0m\u001b[0;34m)\u001b[0m\u001b[0;34m\u001b[0m\u001b[0;34m\u001b[0m\u001b[0m\n\u001b[1;32m      5\u001b[0m \u001b[0mWINDOW_HEIGHT\u001b[0m \u001b[0;34m=\u001b[0m \u001b[0;36m400\u001b[0m\u001b[0;34m\u001b[0m\u001b[0;34m\u001b[0m\u001b[0m\n",
      "\u001b[0;32m~/.local/lib/python3.8/site-packages/pygame/__init__.py\u001b[0m in \u001b[0;36m<module>\u001b[0;34m\u001b[0m\n\u001b[1;32m     81\u001b[0m \u001b[0;34m\u001b[0m\u001b[0m\n\u001b[1;32m     82\u001b[0m \u001b[0;31m# first, the \"required\" modules\u001b[0m\u001b[0;34m\u001b[0m\u001b[0;34m\u001b[0m\u001b[0;34m\u001b[0m\u001b[0m\n\u001b[0;32m---> 83\u001b[0;31m \u001b[0;32mfrom\u001b[0m \u001b[0mpygame\u001b[0m\u001b[0;34m.\u001b[0m\u001b[0mbase\u001b[0m \u001b[0;32mimport\u001b[0m \u001b[0;34m*\u001b[0m  \u001b[0;31m# pylint: disable=wildcard-import; lgtm[py/polluting-import]\u001b[0m\u001b[0;34m\u001b[0m\u001b[0;34m\u001b[0m\u001b[0m\n\u001b[0m\u001b[1;32m     84\u001b[0m \u001b[0;32mfrom\u001b[0m \u001b[0mpygame\u001b[0m\u001b[0;34m.\u001b[0m\u001b[0mconstants\u001b[0m \u001b[0;32mimport\u001b[0m \u001b[0;34m*\u001b[0m  \u001b[0;31m# now has __all__ pylint: disable=wildcard-import; lgtm[py/polluting-import]\u001b[0m\u001b[0;34m\u001b[0m\u001b[0;34m\u001b[0m\u001b[0m\n\u001b[1;32m     85\u001b[0m \u001b[0;32mfrom\u001b[0m \u001b[0mpygame\u001b[0m\u001b[0;34m.\u001b[0m\u001b[0mversion\u001b[0m \u001b[0;32mimport\u001b[0m \u001b[0;34m*\u001b[0m  \u001b[0;31m# pylint: disable=wildcard-import; lgtm[py/polluting-import]\u001b[0m\u001b[0;34m\u001b[0m\u001b[0;34m\u001b[0m\u001b[0m\n",
      "\u001b[0;31mImportError\u001b[0m: dlopen(/Users/mghimire/.local/lib/python3.8/site-packages/pygame/base.cpython-38-darwin.so, 0x0002): tried: '/Users/mghimire/.local/lib/python3.8/site-packages/pygame/base.cpython-38-darwin.so' (mach-o file, but is an incompatible architecture (have 'x86_64', need 'arm64e')), '/usr/local/lib/base.cpython-38-darwin.so' (no such file), '/usr/lib/base.cpython-38-darwin.so' (no such file)"
     ]
    }
   ],
   "source": [
    "import pygame\n",
    "\n",
    "BLACK = (0, 0, 0)\n",
    "WHITE = (200, 200, 200)\n",
    "WINDOW_HEIGHT = 400\n",
    "WINDOW_WIDTH = 400\n",
    "\n",
    "\n",
    "def main():\n",
    "    global SCREEN, CLOCK\n",
    "    pygame.init()\n",
    "    SCREEN = pygame.display.set_mode((WINDOW_WIDTH, WINDOW_HEIGHT))\n",
    "    CLOCK = pygame.time.Clock()\n",
    "    SCREEN.fill(BLACK)\n",
    "\n",
    "    while True:\n",
    "        drawGrid()\n",
    "        for event in pygame.event.get():\n",
    "            if event.type == pygame.QUIT:\n",
    "                pygame.quit()\n",
    "                sys.exit()\n",
    "\n",
    "        pygame.display.update()\n",
    "\n",
    "\n",
    "def drawGrid():\n",
    "    blockSize = 10 #Set the size of the grid block\n",
    "    for x in range(0, WINDOW_WIDTH, blockSize):\n",
    "        for y in range(0, WINDOW_HEIGHT, blockSize):\n",
    "            rect = pygame.Rect(x, y, blockSize, blockSize)\n",
    "            pygame.draw.rect(SCREEN, WHITE, rect, 1)"
   ]
  },
  {
   "cell_type": "code",
   "execution_count": 176,
   "id": "8deb97d2",
   "metadata": {},
   "outputs": [],
   "source": [
    "import numpy as np\n",
    "\n",
    "\n",
    "class Spider_Multi:\n",
    "    \"Base Class for spider agent with base policy\"\n",
    "\n",
    "    def __init__(self, position):\n",
    "        self.position = position\n",
    "        self.actions = ['N', 'S', 'E', 'W', '0']  # up down right left stay\n",
    "\n",
    "\n",
    "    def take_action(self, action):\n",
    "        position = copy.deepcopy(self.position)\n",
    "        if action == 'N':\n",
    "            if position[0] -1 > 0:\n",
    "                position[0] -= 1\n",
    "        if action == 'S':\n",
    "            if position[0] + 1 < 9:\n",
    "                position[0] += 1\n",
    "        if action == 'E':\n",
    "            if position[1] + 1 < 9:\n",
    "                position[1] += 1\n",
    "        if action == 'W':\n",
    "            if position[1] - 1> 0:\n",
    "                position[1] -= 1\n",
    "\n",
    "        return position\n",
    "\n",
    "\n",
    "    def get_nearest_move(self, flies):\n",
    "        position = copy.deepcopy(self.position)\n",
    "        flies = [fly for fly in flies if not fly.get_status()]\n",
    "        flies_loc = np.array([fly.position for fly in flies])\n",
    "        nearest_fly = self._get_nearest_fly(flies_loc)\n",
    "        move_axis = np.argmax(np.abs(position - flies[nearest_fly].position))\n",
    "        # move 1-unit to the maximum distance axis\n",
    "        position[move_axis] -= 1 * np.sign((position - flies[nearest_fly].position)[move_axis])\n",
    "\n",
    "        if position[1] >= 9:\n",
    "            position[1] == 9\n",
    "        if position[1] <= 0:\n",
    "            position[1] == 0\n",
    "        if position[0] <= 0:\n",
    "            position[0] = 0\n",
    "        if position[0] >= 9:\n",
    "            position[0] = 9\n",
    "\n",
    "        return position\n",
    "\n",
    "    def move_to_fly(self, flies):\n",
    "        flies = [fly for fly in flies if not fly.get_status()]\n",
    "        flies_loc = np.array([fly.position for fly in flies])\n",
    "        nearest_fly = self._get_nearest_fly(flies_loc)\n",
    "        move_axis = np.argmax(np.abs(self.position - flies[nearest_fly].position))\n",
    "        # move 1-unit to the maximum distance axis\n",
    "        self.position[move_axis] -= 1 * np.sign((self.position - flies[nearest_fly].position)[move_axis])\n",
    "\n",
    "        if self.position[1] >= 9:\n",
    "            self.position[1] == 9\n",
    "        if self.position[1] <= 0:\n",
    "            self.position[1] == 0\n",
    "        if self.position[0] <= 0:\n",
    "            self.position[0] = 0\n",
    "        if self.position[0] >= 9:\n",
    "            self.position[0] = 9\n",
    "\n",
    "    def _get_nearest_fly(self, flies_loc):\n",
    "        distances = np.abs(flies_loc - self.position)\n",
    "        sums = np.sum(distances, axis=1)\n",
    "        close = np.min(sums)\n",
    "        diff = sums - close\n",
    "        idx = np.where(diff == 0)\n",
    "        if len(idx) == 1:\n",
    "            return idx[0][0]\n",
    "        else:\n",
    "            h_min = distances[idx[0][0]][0]\n",
    "            min_idx = None\n",
    "            for i in range(1, len(idx[0])):\n",
    "                if distances[idx[0][i]][0] < h_min:\n",
    "                    h_min = distances[idx[0][i]][0]\n",
    "                    min_idx = idx[0][i]\n",
    "            return min_idx\n",
    "\n",
    "    # def get_Q_values(self, flies):\n",
    "    #     Qfactors = []\n",
    "    #     for action in self.actions:\n",
    "    #         # get one-step lookahead action :: go towards nearest fly\n",
    "    #         self.move_to_fly(flies)\n",
    "    #         Qfactors ="
   ]
  },
  {
   "cell_type": "code",
   "execution_count": 80,
   "id": "824bcb32",
   "metadata": {},
   "outputs": [],
   "source": [
    "class Game:\n",
    "    \"Game Class for Base Policy\"\n",
    "    \n",
    "    def __init__(self, loc_spiders, loc_flies):\n",
    "        self.flies = [Fly(loc) for loc in loc_flies]\n",
    "        self.og_flies = np.copy(self.flies)\n",
    "        self.spiders = [Spider(loc) for loc in loc_spiders]\n",
    "        self.flies_loc = loc_flies\n",
    "        self.spiders_loc = loc_spiders\n",
    "        self.moves = 0\n",
    "        \n",
    "    def is_game_over(self, flies):\n",
    "        return not False in [fly.get_status() for fly in flies]\n",
    "    \n",
    "    def start_game(self):\n",
    "        while (not (self.is_game_over(self.flies))) and (self.moves < (10*10)):\n",
    "            self.moves += 1\n",
    "            for spider in self.spiders:\n",
    "                spider.move_to_fly(self.flies_loc, self.flies)\n",
    "            \n",
    "            self.check_capture()\n",
    "            \n",
    "#             print([spider.position for spider in self.spiders])\n",
    "#             print([fly.get_status() for fly in self.flies])\n",
    "            \n",
    "        return self.moves\n",
    "                \n",
    "            \n",
    "    def generate_grid(flies, spiders):\n",
    "        pass\n",
    "    \n",
    "    def check_capture(self):\n",
    "        for spider in self.spiders:\n",
    "            for fly in self.flies:\n",
    "                if (spider.position == fly.position).all():\n",
    "                    fly.set_status(True)  \n",
    "                    \n",
    "    "
   ]
  },
  {
   "cell_type": "code",
   "execution_count": 272,
   "id": "230df458",
   "metadata": {},
   "outputs": [],
   "source": [
    "import copy\n",
    "\n",
    "import numpy as np\n",
    "# from Fly import Fly\n",
    "# from Spider_Multi import Spider_Multi as Spider\n",
    "# from Game import Game as base_policy\n",
    "\n",
    "\n",
    "def _manhattan(a, b):\n",
    "    distances = np.abs(a - b)\n",
    "    return np.sum(distances)\n",
    "\n",
    "\n",
    "class Game_Multi:\n",
    "    \"\"\"Game Class for Base Policy\"\"\"\n",
    "\n",
    "    def __init__(self, loc_spiders, loc_flies):\n",
    "        self.grid_size = 10\n",
    "        self.flies = [Fly(loc) for loc in loc_flies]\n",
    "        self.og_flies = np.copy(self.flies)\n",
    "        self.spiders = [Spider_Multi(loc) for loc in loc_spiders]\n",
    "        self.flies_loc = loc_flies\n",
    "        self.spiders_loc = loc_spiders\n",
    "        self.moves = 0\n",
    "        self.move_total = [copy.deepcopy(loc_spiders)]\n",
    "        self.status = [[fly.get_status() for fly in copy.deepcopy(self.flies)]]\n",
    "        self.actions = [[],[]]\n",
    "\n",
    "    def is_game_over(self):\n",
    "        return not False in [fly.get_status() for fly in self.flies]\n",
    "\n",
    "    def start_game(self):\n",
    "        while (not (self.is_game_over())) and (self.moves < 10*10):\n",
    "            # start rollout for agents\n",
    "            for i in range(len(self.spiders)):\n",
    "                self.moves += 1\n",
    "                # get Q-factors\n",
    "                Q_val = self.get_Q_values(i)\n",
    "                # take action corresponding to minimum Q-factor\n",
    "                action_candidates = np.where(Q_val == np.min(Q_val))[0]\n",
    "                action_candidates = list(np.where(Q_val2 == np.min(Q_val2))[0])\n",
    "                if len(action_candidates) > 1: # remove invalid actions\n",
    "                    if 0 in action_candidates and spider_and_flies.spiders[0].position[0] == 0:\n",
    "                        action_candidates.remove(0)\n",
    "                    if 1 in action_candidates and spider_and_flies.spiders[0].position[0] == 9:\n",
    "                        action_candidates.remove(1)\n",
    "                    if 2 in action_candidates and spider_and_flies.spiders[0].position[1] == 9:\n",
    "                        action_candidates.remove(2)\n",
    "                    if 3 in action_candidates and spider_and_flies.spiders[0].position[1] == 0:\n",
    "                        action_candidates.remove(3)\n",
    "\n",
    "                        # horizontal priority over vertical\n",
    "                    if 0 in action_candidates and 2 in action_candidates:\n",
    "                        action_candidates.remove(0)\n",
    "                    if 0 in action_candidates and 3 in action_candidates:\n",
    "                        action_candidates.remove(0)\n",
    "                    if 1 in action_candidates and 2 in action_candidates:\n",
    "                        action_candidates.remove(1)\n",
    "                    if 1 in action_candidates and 3 in action_candidates:\n",
    "                        action_candidates.remove(1)\n",
    "\n",
    "                    action = action_candidates[0]\n",
    "                else:\n",
    "                    action = action_candidates[0]\n",
    "                self.actions[i].append(self.spiders[i].actions[action])\n",
    "                # get new position\n",
    "                new_pos = self.spiders[i].take_action(self.spiders[i].actions[action])\n",
    "                # update position\n",
    "                self.spiders[i].position = new_pos\n",
    "\n",
    "                # check everything after one move (= one fly at a time)\n",
    "                sp_copy = copy.deepcopy(self.spiders)\n",
    "                self.move_total.append([spider.position for spider in sp_copy])\n",
    "\n",
    "                self.check_capture()\n",
    "\n",
    "                # print([spider.position for spider in self.spiders])\n",
    "                # print([fly.get_status() for fly in self.flies])\n",
    "                f_copy = copy.deepcopy(self.flies)\n",
    "\n",
    "                self.status.append([fly.get_status() for fly in f_copy])\n",
    "\n",
    "    def generate_grid(self):\n",
    "        pass\n",
    "\n",
    "    def check_capture(self):\n",
    "        for spider in self.spiders:\n",
    "            for fly in self.flies:\n",
    "                if (spider.position == fly.position).all():\n",
    "                    fly.set_status(True)\n",
    "\n",
    "    def get_Q_values(self, current_spider):\n",
    "        Qfactors = []\n",
    "        flies = [fly for fly in self.flies if not fly.get_status()]\n",
    "        flies_loc = np.array([fly.position for fly in flies])\n",
    "        for action in self.spiders[current_spider].actions:\n",
    "            # move to the location:\n",
    "            current_action = action\n",
    "            new_pos = self.spiders[current_spider].take_action(current_action)\n",
    "            pos = [new_pos]\n",
    "            # assuming all other spiders move to nearest fly in that stage\n",
    "            if current_spider < len(self.spiders)-1:\n",
    "                for i in range(current_spider+1, len(self.spiders)):\n",
    "                    next_pos = self.spiders[i].get_nearest_move(flies)\n",
    "                    pos.append(next_pos)\n",
    "                    Qfactors.append(Game(copy.deepcopy(pos), flies_loc).start_game())\n",
    "            else:\n",
    "                for i in range(current_spider):\n",
    "                    pos.append(self.spiders[i].position)\n",
    "                Qfactors.append(Game(copy.deepcopy(pos), flies_loc).start_game())\n",
    "        return Qfactors\n",
    "\n"
   ]
  },
  {
   "cell_type": "code",
   "execution_count": 344,
   "id": "9ad8fc93",
   "metadata": {},
   "outputs": [],
   "source": [
    "flies_loc = np.array([[3,2],[7,1],[6,4],[8,8],[2,8]])\n",
    "agent_loc = np.array([[3, 3],[2,11]])\n",
    "# spider_and_flies = Game_Multi(loc_spiders = agent_loc, loc_flies=flies_loc)\n",
    "spider2 = Game(loc_spiders=agent_loc, loc_flies=flies_loc)"
   ]
  },
  {
   "cell_type": "code",
   "execution_count": 375,
   "id": "7464de58",
   "metadata": {},
   "outputs": [],
   "source": [
    "a = [[] for _ in range(3)]"
   ]
  },
  {
   "cell_type": "code",
   "execution_count": 376,
   "id": "ab1713f0",
   "metadata": {},
   "outputs": [
    {
     "data": {
      "text/plain": [
       "[[], [], []]"
      ]
     },
     "execution_count": 376,
     "metadata": {},
     "output_type": "execute_result"
    }
   ],
   "source": [
    "a"
   ]
  },
  {
   "cell_type": "code",
   "execution_count": 363,
   "id": "1e2e4500",
   "metadata": {},
   "outputs": [],
   "source": []
  },
  {
   "cell_type": "code",
   "execution_count": 364,
   "id": "9120fcc2",
   "metadata": {},
   "outputs": [
    {
     "data": {
      "text/plain": [
       "[[None, None, None, 1]]"
      ]
     },
     "execution_count": 364,
     "metadata": {},
     "output_type": "execute_result"
    }
   ],
   "source": [
    "a"
   ]
  },
  {
   "cell_type": "code",
   "execution_count": 295,
   "id": "11e46fce",
   "metadata": {},
   "outputs": [],
   "source": [
    "Q_val1 = spider_and_flies.get_Q_values(0)\n",
    "Q_val2 = spider_and_flies.get_Q_values(1)"
   ]
  },
  {
   "cell_type": "code",
   "execution_count": 320,
   "id": "514dfe86",
   "metadata": {},
   "outputs": [],
   "source": [
    "action_candidates = list(np.where(Q_val2 == np.min(Q_val2))[0])\n",
    "if len(action_candidates) > 1: # remove invalid actions\n",
    "    if 0 in action_candidates and spider_and_flies.spiders[0].position[0] == 0:\n",
    "        action_candidates.remove(0)\n",
    "    if 1 in action_candidates and spider_and_flies.spiders[0].position[0] == 9:\n",
    "        action_candidates.remove(1)\n",
    "    if 2 in action_candidates and spider_and_flies.spiders[0].position[1] == 9:\n",
    "        action_candidates.remove(2)\n",
    "    if 3 in action_candidates and spider_and_flies.spiders[0].position[1] == 0:\n",
    "        action_candidates.remove(4)\n",
    "\n",
    "        # horizontal priority over vertical\n",
    "    if 0 in action_candidates and 2 in action_candidates:\n",
    "        action_candidates.remove(0)\n",
    "    if 0 in action_candidates and 3 in action_candidates:\n",
    "        action_candidates.remove(0)\n",
    "    if 1 in action_candidates and 2 in action_candidates:\n",
    "        action_candidates.remove(1)\n",
    "    if 1 in action_candidates and 3 in action_candidates:\n",
    "        action_candidates.remove(1)\n",
    "\n",
    "    action = action_candidates[0]\n",
    "else:\n",
    "    action = action_candidates[0]"
   ]
  },
  {
   "cell_type": "code",
   "execution_count": 321,
   "id": "97993626",
   "metadata": {},
   "outputs": [
    {
     "data": {
      "text/plain": [
       "2"
      ]
     },
     "execution_count": 321,
     "metadata": {},
     "output_type": "execute_result"
    }
   ],
   "source": [
    "action"
   ]
  },
  {
   "cell_type": "code",
   "execution_count": 310,
   "id": "906fc760",
   "metadata": {},
   "outputs": [],
   "source": [
    "action_candidates = list(np.where(Q_val1 == np.min(Q_val1))[0])"
   ]
  },
  {
   "cell_type": "code",
   "execution_count": 311,
   "id": "e4a0461b",
   "metadata": {},
   "outputs": [],
   "source": [
    "if spider_and_flies.spiders[0].position[0] == 0:\n",
    "    action_candidates.remove(0)"
   ]
  },
  {
   "cell_type": "code",
   "execution_count": 313,
   "id": "4853481b",
   "metadata": {},
   "outputs": [
    {
     "ename": "ValueError",
     "evalue": "list.remove(x): x not in list",
     "output_type": "error",
     "traceback": [
      "\u001b[0;31m---------------------------------------------------------------------------\u001b[0m",
      "\u001b[0;31mValueError\u001b[0m                                Traceback (most recent call last)",
      "\u001b[0;32m/var/folders/xd/5m8xqhxj7nb98dkg_t5fs5zc0000gq/T/ipykernel_25783/651984398.py\u001b[0m in \u001b[0;36m<module>\u001b[0;34m\u001b[0m\n\u001b[1;32m      1\u001b[0m \u001b[0maction_candidates\u001b[0m\u001b[0;34m\u001b[0m\u001b[0;34m\u001b[0m\u001b[0m\n\u001b[0;32m----> 2\u001b[0;31m \u001b[0maction_candidates\u001b[0m\u001b[0;34m.\u001b[0m\u001b[0mremove\u001b[0m\u001b[0;34m(\u001b[0m\u001b[0;36m0\u001b[0m\u001b[0;34m)\u001b[0m\u001b[0;34m\u001b[0m\u001b[0;34m\u001b[0m\u001b[0m\n\u001b[0m",
      "\u001b[0;31mValueError\u001b[0m: list.remove(x): x not in list"
     ]
    }
   ],
   "source": [
    "action_candidates\n",
    "action_candidates.remove(0)"
   ]
  },
  {
   "cell_type": "code",
   "execution_count": null,
   "id": "f0c3a472",
   "metadata": {},
   "outputs": [],
   "source": []
  },
  {
   "cell_type": "code",
   "execution_count": 276,
   "id": "ea9ba1c3",
   "metadata": {},
   "outputs": [
    {
     "data": {
      "text/plain": [
       "'N'"
      ]
     },
     "execution_count": 276,
     "metadata": {},
     "output_type": "execute_result"
    }
   ],
   "source": [
    "spider_and_flies.spiders[0].actions[action1]"
   ]
  },
  {
   "cell_type": "code",
   "execution_count": 269,
   "id": "d84ec43f",
   "metadata": {},
   "outputs": [
    {
     "data": {
      "text/plain": [
       "'S'"
      ]
     },
     "execution_count": 269,
     "metadata": {},
     "output_type": "execute_result"
    }
   ],
   "source": [
    "spider_and_flies.spiders[1].actions[action2]"
   ]
  },
  {
   "cell_type": "code",
   "execution_count": 270,
   "id": "11eeae31",
   "metadata": {},
   "outputs": [
    {
     "data": {
      "text/plain": [
       "[15, 24, 24, 15, 15]"
      ]
     },
     "execution_count": 270,
     "metadata": {},
     "output_type": "execute_result"
    }
   ],
   "source": [
    "Q_val1"
   ]
  },
  {
   "cell_type": "code",
   "execution_count": 271,
   "id": "16e45f14",
   "metadata": {},
   "outputs": [
    {
     "data": {
      "text/plain": [
       "[25, 15, 15, 16, 25]"
      ]
     },
     "execution_count": 271,
     "metadata": {},
     "output_type": "execute_result"
    }
   ],
   "source": [
    "Q_val2"
   ]
  },
  {
   "cell_type": "code",
   "execution_count": 281,
   "id": "f9c82287",
   "metadata": {},
   "outputs": [
    {
     "data": {
      "text/plain": [
       "array([0, 5])"
      ]
     },
     "execution_count": 281,
     "metadata": {},
     "output_type": "execute_result"
    }
   ],
   "source": [
    "spider_and_flies.spiders[0].take_action('W')"
   ]
  },
  {
   "cell_type": "code",
   "execution_count": 283,
   "id": "2a7c7752",
   "metadata": {},
   "outputs": [
    {
     "data": {
      "text/plain": [
       "16"
      ]
     },
     "execution_count": 283,
     "metadata": {},
     "output_type": "execute_result"
    }
   ],
   "source": [
    "spider2.start_game()"
   ]
  },
  {
   "cell_type": "code",
   "execution_count": null,
   "id": "242db8a6",
   "metadata": {},
   "outputs": [],
   "source": []
  }
 ],
 "metadata": {
  "kernelspec": {
   "display_name": "Python 3 (ipykernel)",
   "language": "python",
   "name": "python3"
  },
  "language_info": {
   "codemirror_mode": {
    "name": "ipython",
    "version": 3
   },
   "file_extension": ".py",
   "mimetype": "text/x-python",
   "name": "python",
   "nbconvert_exporter": "python",
   "pygments_lexer": "ipython3",
   "version": "3.8.11"
  }
 },
 "nbformat": 4,
 "nbformat_minor": 5
}
