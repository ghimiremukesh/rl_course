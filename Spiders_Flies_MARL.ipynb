{
 "cells": [
  {
   "cell_type": "code",
   "execution_count": 2,
   "id": "0b4b5b24",
   "metadata": {},
   "outputs": [
    {
     "name": "stderr",
     "output_type": "stream",
     "text": [
      "\n"
     ]
    }
   ],
   "source": [
    "import numpy as np\n",
    "import math\n",
    "import matplotlib.pyplot as plt"
   ]
  },
  {
   "cell_type": "code",
   "execution_count": 64,
   "id": "23cc4937",
   "metadata": {},
   "outputs": [],
   "source": [
    "grid_size = 10\n",
    "\n",
    "grid = np.zeros((grid_size, grid_size))\n",
    "\n",
    "num_agents = 2\n",
    "agent_loc = [0, 6]\n",
    "agents = []\n",
    "\n",
    "flies_loc = [[]]\n",
    "\n",
    "#initialize agents\n",
    "for _ in range(num_agents):\n",
    "    agents.append(Spider(agent_loc))"
   ]
  },
  {
   "cell_type": "code",
   "execution_count": 199,
   "id": "f89f4a02",
   "metadata": {},
   "outputs": [],
   "source": [
    "# assign spiders and flies\n",
    "flies_loc = [[0,6],[0,6]]"
   ]
  },
  {
   "cell_type": "code",
   "execution_count": 200,
   "id": "fe471fb1",
   "metadata": {},
   "outputs": [
    {
     "name": "stdout",
     "output_type": "stream",
     "text": [
      "S\n",
      "SS\n"
     ]
    }
   ],
   "source": [
    "for loc in flies_loc:\n",
    "    a = np.char.add(grid[loc[0]][loc[1]], 'S')\n",
    "    grid[loc[0]][loc[1]] = a\n",
    "    print(a)"
   ]
  },
  {
   "cell_type": "code",
   "execution_count": 62,
   "id": "de84af3b",
   "metadata": {},
   "outputs": [],
   "source": [
    "class Spider:\n",
    "    \"Base Class for spider agent\"\n",
    "    def __init__(self, position):\n",
    "        self.position = position\n",
    "    \n",
    "    def move_to_spider(self, spiders_loc):\n",
    "        nearest_spider = self._get_nearest_spider(self, spiders_loc)\n",
    "        move_axis = np.argmax(np.abs(self.position - nearest_spider))\n",
    "        # move 1-unit to the maximum distance axis\n",
    "        self.position[move_axis] += 1\n",
    "        \n",
    "        return self.position\n",
    "        \n",
    "    \n",
    "    def _get_nearest_spider(self, spiders_loc):\n",
    "        distances = np.abs(spiders_loc - self.position)\n",
    "        sums = np.sum(distances, axis=1)\n",
    "        close = np.min(sums)\n",
    "        diff = sums - close\n",
    "        idx = np.where(diff==0)\n",
    "        if len(idx)==1:\n",
    "            return np.where(sums == close)\n",
    "        else:\n",
    "            h_min = distances[a[0][0]][0]\n",
    "            min_idx = None\n",
    "            for i in range(1,len(a[0])):\n",
    "                 if distances[a[0][i]][0] < h_min:\n",
    "                        h_min = distances[a[0][i]][0]\n",
    "                        min_idx = a[0][i]\n",
    "            return min_idx"
   ]
  },
  {
   "cell_type": "code",
   "execution_count": 63,
   "id": "9bd2848d",
   "metadata": {},
   "outputs": [
    {
     "name": "stdout",
     "output_type": "stream",
     "text": [
      "Nearest location: (array([0, 1]),)\n"
     ]
    }
   ],
   "source": [
    "spiders_loc = np.array([[3,2], [2, 1]])\n",
    "pos = np.array([0, 6])\n",
    "\n",
    "distances = np.abs(spiders_loc - pos)\n",
    "sums = np.sum(distances, axis=1)\n",
    "close = np.min(sums)\n",
    "diff = sums - close\n",
    "if len(np.where(diff==0))==1:\n",
    "    print(\"Nearest location:\", np.where(sums == close))"
   ]
  },
  {
   "cell_type": "code",
   "execution_count": 52,
   "id": "223f776c",
   "metadata": {},
   "outputs": [],
   "source": [
    "a = np.where(diff!=None)\n",
    "h_min = distances[a[0][0]][0]\n",
    "min_idx = None\n",
    "for i in range(1,len(a[0])):\n",
    "     if distances[a[0][i]][0] < h_min:\n",
    "            h_min = distances[a[0][i]][0]\n",
    "            min_idx = a[0][i]\n",
    "# return h_min"
   ]
  },
  {
   "cell_type": "code",
   "execution_count": 57,
   "id": "a4369c2f",
   "metadata": {},
   "outputs": [
    {
     "data": {
      "text/plain": [
       "1"
      ]
     },
     "execution_count": 57,
     "metadata": {},
     "output_type": "execute_result"
    }
   ],
   "source": [
    "np.argmax(np.abs(np.array([1,1])-np.array([3,4])))"
   ]
  },
  {
   "cell_type": "code",
   "execution_count": null,
   "id": "536ba4a8",
   "metadata": {},
   "outputs": [],
   "source": []
  }
 ],
 "metadata": {
  "kernelspec": {
   "display_name": "Python 3",
   "language": "python",
   "name": "python3"
  },
  "language_info": {
   "codemirror_mode": {
    "name": "ipython",
    "version": 3
   },
   "file_extension": ".py",
   "mimetype": "text/x-python",
   "name": "python",
   "nbconvert_exporter": "python",
   "pygments_lexer": "ipython3",
   "version": "3.8.8"
  }
 },
 "nbformat": 4,
 "nbformat_minor": 5
}
